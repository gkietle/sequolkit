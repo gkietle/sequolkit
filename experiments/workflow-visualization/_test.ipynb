{
 "cells": [
  {
   "cell_type": "code",
   "execution_count": 2,
   "metadata": {},
   "outputs": [
    {
     "name": "stderr",
     "output_type": "stream",
     "text": [
      "2025-05-14 23:02:05,369 - core.services - INFO - EMBED_HOST_API: http://None\n"
     ]
    },
    {
     "name": "stdout",
     "output_type": "stream",
     "text": [
      "sql_agent_workflow.html\n",
      "schema_enrichment_workflow.html\n",
      "baseline_workflow.html\n"
     ]
    }
   ],
   "source": [
    "from llama_index.utils.workflow import draw_all_possible_flows\n",
    "import sys\n",
    "import os\n",
    "\n",
    "# Add the parent directory to sys.path to enable absolute imports\n",
    "sys.path.append(os.path.abspath(\"../..\"))  # Go up two levels to project root\n",
    "sys.path.append(os.path.abspath(\"../../slm-engine\"))\n",
    "sys.path.append(os.path.abspath(\"../../slm-engine/src\"))  # Add src directory specifically\n",
    "\n",
    "# Try importing after path adjustments\n",
    "try:\n",
    "    from core.baseline_workflow import BaselineWorkflow\n",
    "    from core.workflow import SQLAgentWorkflow, SchemaEnrichmentWorkflow\n",
    "    \n",
    "    # Draw workflow visualizations\n",
    "    draw_all_possible_flows(\n",
    "        SQLAgentWorkflow, filename=\"sql_agent_workflow.html\"\n",
    "    )\n",
    "    \n",
    "    draw_all_possible_flows(\n",
    "        SchemaEnrichmentWorkflow, filename=\"schema_enrichment_workflow.html\"\n",
    "    )\n",
    "    \n",
    "    draw_all_possible_flows(\n",
    "        BaselineWorkflow, filename=\"baseline_workflow.html\"\n",
    "    )\n",
    "except ModuleNotFoundError as e:\n",
    "    print(f\"Import error: {e}\")\n",
    "    print(f\"Current sys.path: {sys.path}\")\n",
    "    print(\"Please check the correct path to the 'core' module\")"
   ]
  }
 ],
 "metadata": {
  "kernelspec": {
   "display_name": "sequolkit",
   "language": "python",
   "name": "python3"
  },
  "language_info": {
   "codemirror_mode": {
    "name": "ipython",
    "version": 3
   },
   "file_extension": ".py",
   "mimetype": "text/x-python",
   "name": "python",
   "nbconvert_exporter": "python",
   "pygments_lexer": "ipython3",
   "version": "3.10.16"
  }
 },
 "nbformat": 4,
 "nbformat_minor": 2
}
